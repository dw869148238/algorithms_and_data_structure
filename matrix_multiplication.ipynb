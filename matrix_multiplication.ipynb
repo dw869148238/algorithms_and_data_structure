{
 "cells": [
  {
   "cell_type": "code",
   "execution_count": 37,
   "metadata": {},
   "outputs": [],
   "source": [
    "import  numpy as np\n",
    "\n",
    "\n",
    "def matrix_multiply(A, B):\n",
    "    \"\"\"\n",
    "    param: A\n",
    "    type: n1 by m matrix, n1,m > 1\n",
    "    param: B\n",
    "    type: m by n2 matrix, n2, m > 1\n",
    "    return: C matrix, n1 by n2\n",
    "    \"\"\"\n",
    "    A_row, A_colum = A.shape\n",
    "    B_row, B_colum = B.shape\n",
    "    C = np.zeros((A_row, B_colum))\n",
    "    for i in xrange(A_row):\n",
    "        for j in xrange(B_colum):\n",
    "            c_ij = 0\n",
    "            for k in xrange(A_colum):\n",
    "                c_ij = c_ij + A[i,k] * B[k, j]\n",
    "            C[i,j] = c_ij\n",
    "    print(\"The matrix multiply C: {0}\".format(C))\n",
    "    \n",
    "    \n",
    "def square_matrix_multiply_recursive(A, B):\n",
    "    \"\"\"\n",
    "    param: A\n",
    "    type: n by n matrix, n is the power of 2\n",
    "    param: B \n",
    "    type: n by n matrix, n is the power of 2\n",
    "    return: C\n",
    "    type: n by n matrix\n",
    "    \"\"\"\n",
    "    A_row = A.shape[0]\n",
    "    b_row = B.shape[0]\n",
    "    if A_row != b_row:\n",
    "        raise\n",
    "    \n",
    "    n = A_row\n",
    "    if n == 1:\n",
    "        C = A * B\n",
    "    else:\n",
    "        C11 = square_matrix_multiply_recursive(A[:n/2,:n/2], B[:n/2,:n/2]) + \\\n",
    "                square_matrix_multiply_recursive(A[:n/2,n/2:], B[n/2:,:n/2])\n",
    "        C12 = square_matrix_multiply_recursive(A[:n/2,:n/2],B[:n/2,n/2:]) + \\\n",
    "                square_matrix_multiply_recursive(A[:n/2,:n/2],B[n/2:,n/2:])\n",
    "        C21 = square_matrix_multiply_recursive(A[n/2:,:n/2],B[:n/2,:n/2]) + \\\n",
    "                square_matrix_multiply_recursive(A[n/2:,n/2:],B[n/2:,:n/2])\n",
    "        C22 = square_matrix_multiply_recursive(A[n/2:,:n/2],B[:n/2,n/2:]) + \\\n",
    "                square_matrix_multiply_recursive(A[n/2:,n/2:],B[n/2:,n/2:])\n",
    "        C = np.zeros(A.shape)\n",
    "        C[:n/2, :n/2] = C11\n",
    "        C[:n/2, n/2:] = C12\n",
    "        C[n/2:, :n/2] = C21\n",
    "        C[n/2:, n/2:] = C12  \n",
    "#     print(\"The matrix multiply rescursive C: {0}\".format(C))\n",
    "    return C\n"
   ]
  },
  {
   "cell_type": "code",
   "execution_count": 38,
   "metadata": {},
   "outputs": [
    {
     "name": "stdout",
     "output_type": "stream",
     "text": [
      "The matrix multiply C: [[ 4.  4.  4.  4.]\n",
      " [ 4.  4.  4.  4.]\n",
      " [ 4.  4.  4.  4.]\n",
      " [ 4.  4.  4.  4.]]\n",
      "The matrix multiply rescursive C: [[ 4.  4.  4.  4.]\n",
      " [ 4.  4.  4.  4.]\n",
      " [ 4.  4.  4.  4.]\n",
      " [ 4.  4.  4.  4.]]\n"
     ]
    }
   ],
   "source": [
    "A = np.array([[1, 1, 1, 1], [1, 1, 1, 1], [1, 1, 1, 1], [1, 1, 1, 1]])\n",
    "B = np.array([[1, 1, 1, 1], [1, 1, 1, 1], [1, 1, 1, 1], [1, 1,1, 1]])\n",
    "matrix_multiply(A, B)\n",
    "C = square_matrix_multiply_recursive(A, B)\n",
    "print(\"The matrix multiply rescursive C: {0}\".format(C))"
   ]
  },
  {
   "cell_type": "code",
   "execution_count": null,
   "metadata": {
    "collapsed": true
   },
   "outputs": [],
   "source": []
  }
 ],
 "metadata": {
  "kernelspec": {
   "display_name": "Python 2",
   "language": "python",
   "name": "python2"
  },
  "language_info": {
   "codemirror_mode": {
    "name": "ipython",
    "version": 2
   },
   "file_extension": ".py",
   "mimetype": "text/x-python",
   "name": "python",
   "nbconvert_exporter": "python",
   "pygments_lexer": "ipython2",
   "version": "2.7.6"
  }
 },
 "nbformat": 4,
 "nbformat_minor": 2
}
