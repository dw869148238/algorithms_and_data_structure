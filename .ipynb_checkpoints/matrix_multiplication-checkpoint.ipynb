{
 "cells": [
  {
   "cell_type": "code",
   "execution_count": 16,
   "metadata": {},
   "outputs": [],
   "source": [
    "import  numpy as np\n",
    "\n",
    "\n",
    "def matrix_multiply(A, B):\n",
    "    \"\"\"\n",
    "    param: A\n",
    "    type: n1 by m matrix, n1,m > 1\n",
    "    param: B\n",
    "    type: m by n2 matrix, n2, m > 1\n",
    "    return: C matrix, n1 by n2\n",
    "    \"\"\"\n",
    "    A_row, A_colum = A.shape\n",
    "    B_row, B_colum = B.shape\n",
    "    C = np.zeros((A_row, B_colum))\n",
    "    for i in xrange(A_row):\n",
    "        for j in xrange(B_colum):\n",
    "            c_ij = 0\n",
    "            for k in xrange(A_colum):\n",
    "                c_ij = c_ij + A[i,k] * B[k, j]\n",
    "            C[i,j] = c_ij\n",
    "    print(\"The matrix multiply C: {0}\".format(C))\n",
    "    \n",
    "    \n",
    "def square_matrix_multiply_recursive(A, B):\n",
    "    pass\n",
    "\n"
   ]
  },
  {
   "cell_type": "code",
   "execution_count": 17,
   "metadata": {},
   "outputs": [
    {
     "name": "stdout",
     "output_type": "stream",
     "text": [
      "The matrix multiply C: [[ 3.  3.]\n",
      " [ 3.  3.]]\n"
     ]
    }
   ],
   "source": [
    "A = np.array([[1, 1, 1], [1, 1, 1]])\n",
    "B = np.array([[1, 1], [1, 1], [1, 1]])\n",
    "matrix_multiply(A, B)"
   ]
  },
  {
   "cell_type": "code",
   "execution_count": null,
   "metadata": {
    "collapsed": true
   },
   "outputs": [],
   "source": []
  }
 ],
 "metadata": {
  "kernelspec": {
   "display_name": "Python 2",
   "language": "python",
   "name": "python2"
  },
  "language_info": {
   "codemirror_mode": {
    "name": "ipython",
    "version": 2
   },
   "file_extension": ".py",
   "mimetype": "text/x-python",
   "name": "python",
   "nbconvert_exporter": "python",
   "pygments_lexer": "ipython2",
   "version": "2.7.6"
  }
 },
 "nbformat": 4,
 "nbformat_minor": 2
}
