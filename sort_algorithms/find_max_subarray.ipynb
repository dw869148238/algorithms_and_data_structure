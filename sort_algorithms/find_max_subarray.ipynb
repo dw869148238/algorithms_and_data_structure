{
 "cells": [
  {
   "cell_type": "code",
   "execution_count": 34,
   "metadata": {
    "collapsed": true
   },
   "outputs": [],
   "source": [
    "# Find the max subarray(the sum) while given one arrary.\n",
    "# This algorithm complementation of the book: Introduction\n",
    "# to algorithms, in the page of 93.\n",
    "# Liking: A = [1 ,-3, 4, 5, -6],\n",
    "# the max subarray is: [1, -3, 4, 5]\n",
    "import math\n",
    "\n",
    "\n",
    "def find_max_crossing_subarray(A, low, mid, high):\n",
    "#     print(\"--------------\")\n",
    "#     print(low, mid, high)\n",
    "    left_sum = float(\"-inf\")\n",
    "    l_sum = 0\n",
    "    for i in xrange(mid, low-1, -1): #why: low - 1?\n",
    "        l_sum += A[i]\n",
    "        if l_sum > left_sum:\n",
    "            left_sum = l_sum\n",
    "            max_left = i\n",
    "    \n",
    "    right_sum = float(\"-inf\")\n",
    "    r_sum = 0\n",
    "    for j in xrange(mid+1, high+1, 1):# why: high + 1?\n",
    "        r_sum += A[j]\n",
    "        if r_sum > right_sum:\n",
    "            right_sum = r_sum\n",
    "            max_right = j\n",
    "#     print(max_left, max_right, left_sum+right_sum)\n",
    "    return(max_left, max_right, left_sum+right_sum)\n",
    "\n",
    "\n",
    "def find_maximum_subarray(A, low, high):\n",
    "    if high == low:\n",
    "        return (low, high, A[low])\n",
    "    else:\n",
    "        mid = int(math.floor((low+high) / 2))\n",
    "        (left_low, left_high, left_sum) = \\\n",
    "        find_maximum_subarray(A, low, mid)\n",
    "        (right_low, right_high, right_sum) = \\\n",
    "        find_maximum_subarray(A, mid+1, high)\n",
    "        (cross_low, cross_high, cross_sum) = \\\n",
    "        find_max_crossing_subarray(A, low, mid, high)\n",
    "        if left_sum >= right_sum and left_sum >= cross_sum:\n",
    "            return (left_low, left_high, left_sum)\n",
    "        elif right_sum >= left_sum and right_sum >= cross_sum:\n",
    "            return (right_low, right_high, right_sum)\n",
    "        else:\n",
    "            return (cross_low, cross_high, cross_sum)\n",
    "        "
   ]
  },
  {
   "cell_type": "code",
   "execution_count": 35,
   "metadata": {},
   "outputs": [
    {
     "name": "stdout",
     "output_type": "stream",
     "text": [
      "(7, 10, 43)\n"
     ]
    }
   ],
   "source": [
    "A = [13, -3, -25, 20, -3, -16, -23, 18, 20, -7, 12, -5, -22, 15, -4, 7]\n",
    "# A = [-1, 1, 2, -3, 4]\n",
    "print(find_maximum_subarray(A, 0, len(A)-1))"
   ]
  },
  {
   "cell_type": "code",
   "execution_count": null,
   "metadata": {
    "collapsed": true
   },
   "outputs": [],
   "source": []
  }
 ],
 "metadata": {
  "kernelspec": {
   "display_name": "Python 2",
   "language": "python",
   "name": "python2"
  },
  "language_info": {
   "codemirror_mode": {
    "name": "ipython",
    "version": 2
   },
   "file_extension": ".py",
   "mimetype": "text/x-python",
   "name": "python",
   "nbconvert_exporter": "python",
   "pygments_lexer": "ipython2",
   "version": "2.7.6"
  }
 },
 "nbformat": 4,
 "nbformat_minor": 2
}
