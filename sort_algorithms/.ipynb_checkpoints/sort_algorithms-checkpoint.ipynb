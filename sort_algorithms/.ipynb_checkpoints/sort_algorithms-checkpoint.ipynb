{
 "cells": [
  {
   "cell_type": "code",
   "execution_count": 2,
   "metadata": {
    "collapsed": true
   },
   "outputs": [],
   "source": [
    "import time\n",
    "import random\n",
    "import copy\n",
    "\n",
    "\n",
    "def generate_arrary(size):\n",
    "    A = list()\n",
    "    for x in xrange(size):\n",
    "        A.append(x)\n",
    "    A = sorted(A, reverse=True)\n",
    "    return A\n",
    "        \n",
    "\n",
    "# sort an array by insert sort algorithm.\n",
    "# its time complexity is: O(n^2)\n",
    "def insert_sort(a):\n",
    "#     print(\"original a is: {0}\".format(a))\n",
    "    for j in xrange(1, len(a)):\n",
    "        key = a[j]\n",
    "        i = j - 1\n",
    "        while i >= 0 and a[i] > key:\n",
    "            a[i+1] = a[i]\n",
    "            i -= 1\n",
    "        a[i+1] = key\n",
    "#     print j\n",
    "#     print(\"insert sorted a is: {0}\".format(a))\n",
    "    \n",
    "    \n",
    "_sentinel = 100000000\n",
    "def _merge(A, p, q, r):\n",
    "    \"\"\"\n",
    "    p smallest value is: 0\n",
    "    r largest value is: A.length\n",
    "    \"\"\"\n",
    "    n1 = q - p + 1\n",
    "    n2 = r - q\n",
    "    L = list()\n",
    "    R = list()\n",
    "    for i in xrange(n1):\n",
    "        L.append(A[p+i])\n",
    "    for j in xrange(n2):\n",
    "        R.append(A[q+j+1])\n",
    "    L.append(_sentinel)\n",
    "    R.append(_sentinel)\n",
    "    #print(p, q, r)\n",
    "    #print(L, R)\n",
    "    i = 0\n",
    "    j = 0\n",
    "    for k in xrange(p, r+1): # r plus 1: xrange do not contain r\n",
    "        if L[i] <= R[j]:\n",
    "            A[k] = L[i]\n",
    "            i += 1\n",
    "        else:\n",
    "            A[k] = R[j]\n",
    "            j += 1\n",
    "        \n",
    "\n",
    "# sort an arrary by merge sort algorithm, which also\n",
    "# is divide and conquer algorithm. its time complexity \n",
    "# is: O(nlgn), the base of lg is 2.\n",
    "def merge_sort(A, p, r):\n",
    "    \"\"\"\n",
    "    sort all the array: p = 0, \n",
    "    r = A.length -1, python index \n",
    "    begin with 0.\n",
    "    \"\"\"\n",
    "    if p < r:\n",
    "        q = int((p + r) / 2)\n",
    "        merge_sort(A, p, q)\n",
    "        merge_sort(A, q+1, r)\n",
    "        _merge(A, p, q, r)\n",
    "\n",
    "\n",
    "# sort an arrary by bubble sort algorithm, \n",
    "# its time complexity is: O(n^2)\n",
    "def bubble_sort(A):\n",
    "    for i in xrange(len(A)):\n",
    "        for j in xrange(len(A)-1, i, -1):\n",
    "            if A[j] < A[j-1]:\n",
    "                k = A[j]\n",
    "                A[j] = A[j-1]\n",
    "                A[j-1] = k\n",
    "\n"
   ]
  },
  {
   "cell_type": "code",
   "execution_count": 3,
   "metadata": {},
   "outputs": [
    {
     "name": "stdout",
     "output_type": "stream",
     "text": [
      "('merge sort need time: ', 0.30576014518737793)\n",
      "('insert sort need time: ', 24.432135105133057)\n",
      "('python sorted need time: ', 0.0018749237060546875)\n"
     ]
    }
   ],
   "source": [
    "# a = [5, 2, 4, 6, 1, 3, 9, 7, 8, 11, 12, 10]\n",
    "a = generate_arrary(10000)\n",
    "b = copy.deepcopy(a)\n",
    "c = copy.deepcopy(a)\n",
    "begin = time.time()\n",
    "merge_sort(a, 0, len(a)-1)\n",
    "# print(a)\n",
    "print(\"merge sort need time: \",time.time()-begin)\n",
    "\n",
    "begin = time.time()\n",
    "insert_sort(b)\n",
    "print(\"insert sort need time: \",time.time()-begin)\n",
    "\n",
    "begin = time.time()\n",
    "sorted(c)\n",
    "print(\"python sorted need time: \",time.time()-begin)"
   ]
  },
  {
   "cell_type": "code",
   "execution_count": null,
   "metadata": {
    "collapsed": true
   },
   "outputs": [],
   "source": []
  }
 ],
 "metadata": {
  "kernelspec": {
   "display_name": "Python 2",
   "language": "python",
   "name": "python2"
  },
  "language_info": {
   "codemirror_mode": {
    "name": "ipython",
    "version": 2
   },
   "file_extension": ".py",
   "mimetype": "text/x-python",
   "name": "python",
   "nbconvert_exporter": "python",
   "pygments_lexer": "ipython2",
   "version": "2.7.6"
  }
 },
 "nbformat": 4,
 "nbformat_minor": 2
}
