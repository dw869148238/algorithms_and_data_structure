{
 "cells": [
  {
   "cell_type": "code",
   "execution_count": 15,
   "metadata": {
    "collapsed": true
   },
   "outputs": [],
   "source": [
    "class QuickSortHander(object):\n",
    "    \"\"\"\n",
    "    This class realize sort problem of array,\n",
    "    with quick sort methodolgy.\n",
    "    \"\"\"\n",
    "    def __init__(self, A):\n",
    "        \"\"\"\n",
    "        param: A\n",
    "        type: python array (list)\n",
    "        \"\"\"\n",
    "        self._list = A\n",
    "        \n",
    "    @property    \n",
    "    def array_size(self):\n",
    "        \"\"\"\n",
    "        \"\"\"\n",
    "        return len(self._list)\n",
    "        \n",
    "    def _partition(self, A, p, r):\n",
    "        \"\"\"\n",
    "        param: A\n",
    "        type: python list (array).\n",
    "        param: p\n",
    "        type: int, subarray begin index.\n",
    "        param: r\n",
    "        type: int, subarray end index, also the pivot element.\n",
    "\n",
    "        return: i+1,\n",
    "        type: int.\n",
    "        \"\"\"\n",
    "        x = A[r-1]\n",
    "        i = p - 1\n",
    "        for j in xrange(p, r, 1):\n",
    "            if A[j-1] <= x:\n",
    "                i += 1\n",
    "                tmp = A[i-1]\n",
    "                A[i-1] = A[j-1]\n",
    "                A[j-1] = tmp\n",
    "        tmp = A[i]\n",
    "        A[i] = A[r-1]\n",
    "        A[r-1] = tmp\n",
    "        return i + 1\n",
    "    \n",
    "    def quick_sort(self, A, p, r):\n",
    "        \"\"\"\n",
    "        \"\"\"\n",
    "        if p < r:\n",
    "            q = self._partition(A, p, r)\n",
    "            self.quick_sort(A, p, q-1)\n",
    "            self.quick_sort(A, q+1, r)\n",
    "    \n",
    "    def sort_self(self):\n",
    "        \"\"\"\n",
    "        \"\"\"\n",
    "        self.quick_sort(self._list, 1, \n",
    "        self.array_size)\n",
    "        \n",
    "    @property    \n",
    "    def get_array(self):\n",
    "        return self._list\n",
    "        \n"
   ]
  },
  {
   "cell_type": "code",
   "execution_count": 19,
   "metadata": {},
   "outputs": [
    {
     "name": "stdout",
     "output_type": "stream",
     "text": [
      "15\n",
      "[0, 0, 1, 2, 2, 3, 4, 5, 6, 11, 20, 21, 23, 32, 33]\n"
     ]
    }
   ],
   "source": [
    "a = [2, 5, 6, 0, 1, 4, 3, 20, 11, 23, 33, 21, 2, 0, 32]\n",
    "q = QuickSortHander(a)\n",
    "print q.array_size\n",
    "q.sort_self()\n",
    "print q.get_array"
   ]
  },
  {
   "cell_type": "code",
   "execution_count": null,
   "metadata": {
    "collapsed": true
   },
   "outputs": [],
   "source": []
  },
  {
   "cell_type": "code",
   "execution_count": null,
   "metadata": {
    "collapsed": true
   },
   "outputs": [],
   "source": []
  }
 ],
 "metadata": {
  "kernelspec": {
   "display_name": "Python 2",
   "language": "python",
   "name": "python2"
  },
  "language_info": {
   "codemirror_mode": {
    "name": "ipython",
    "version": 2
   },
   "file_extension": ".py",
   "mimetype": "text/x-python",
   "name": "python",
   "nbconvert_exporter": "python",
   "pygments_lexer": "ipython2",
   "version": "2.7.6"
  }
 },
 "nbformat": 4,
 "nbformat_minor": 2
}
