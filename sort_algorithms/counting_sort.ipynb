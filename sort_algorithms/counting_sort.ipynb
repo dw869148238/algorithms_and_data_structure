{
 "cells": [
  {
   "cell_type": "code",
   "execution_count": 32,
   "metadata": {},
   "outputs": [],
   "source": [
    "import math\n",
    "\n",
    "\n",
    "class CountSortObject(object):\n",
    "    \"\"\"\n",
    "    This class is used to sorting by the counting\n",
    "    methodology.\n",
    "    \"\"\"\n",
    "    def __init__(self, A, B, k):\n",
    "        \"\"\"\n",
    "        \"\"\"\n",
    "        self._A = A\n",
    "        self._B = B\n",
    "        self._k = k\n",
    "    \n",
    "    def counting_sort(self, A, B, k):\n",
    "        \"\"\"\n",
    "        param: A,\n",
    "        type: python list (array), the array be sorted.\n",
    "        param: B,\n",
    "        type: python list (array), the array stores the\n",
    "        value of sorted array.\n",
    "        param: k, \n",
    "        type: int, the max value of sorted array A.\n",
    "        \"\"\"\n",
    "        C = list()\n",
    "        for i in xrange(0, k+1, 1):\n",
    "            C.append(0)\n",
    "        for j in xrange(1, len(A)+1, 1):\n",
    "            C[A[j-1]] = C[A[j-1]] + 1\n",
    "        for i in xrange(1, k+1, 1):\n",
    "            C[i] = C[i] + C[i-1]\n",
    "        for j in xrange(len(A), 0, -1):\n",
    "            B[C[A[j-1]] - 1] = A[j-1]\n",
    "            C[A[j-1]] = C[A[j-1]] - 1\n",
    "        \n",
    "    def sort_self(self):\n",
    "        \"\"\"\n",
    "        \"\"\"\n",
    "        self.counting_sort(self._A, self._B, \n",
    "        max(self._A))\n",
    "    \n",
    "    @property\n",
    "    def get_sorted_array(self):\n",
    "        \"\"\"\n",
    "        \"\"\"\n",
    "        return self._B\n",
    "        \n",
    "      "
   ]
  },
  {
   "cell_type": "code",
   "execution_count": 34,
   "metadata": {},
   "outputs": [
    {
     "name": "stdout",
     "output_type": "stream",
     "text": [
      "[0, 0, 1, 2, 3, 3, 4, 5, 6, 17, 20]\n"
     ]
    }
   ],
   "source": [
    "A = [4, 0, 3, 6, 1, 3, 5, 0, 2, 20, 17]\n",
    "B = [0, 0, 0, 0, 0, 0, 0, 0, 0, 0, 0]\n",
    "cs = CountSortObject(A, B, max(A))\n",
    "cs.sort_self()\n",
    "print cs.get_sorted_array"
   ]
  },
  {
   "cell_type": "code",
   "execution_count": null,
   "metadata": {
    "collapsed": true
   },
   "outputs": [],
   "source": []
  }
 ],
 "metadata": {
  "kernelspec": {
   "display_name": "Python 2",
   "language": "python",
   "name": "python2"
  },
  "language_info": {
   "codemirror_mode": {
    "name": "ipython",
    "version": 2
   },
   "file_extension": ".py",
   "mimetype": "text/x-python",
   "name": "python",
   "nbconvert_exporter": "python",
   "pygments_lexer": "ipython2",
   "version": "2.7.6"
  }
 },
 "nbformat": 4,
 "nbformat_minor": 2
}
